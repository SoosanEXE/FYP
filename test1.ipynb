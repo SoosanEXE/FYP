{
 "cells": [
  {
   "cell_type": "code",
   "execution_count": 1,
   "metadata": {},
   "outputs": [],
   "source": [
    "import pandas as pd\n",
    "from DataSets import constants as paths\n",
    "from DataPreprocess import constants\n",
    "from DataPreprocess.BinaryClassMapping import BinMap\n",
    "from DataPreprocess.Scaling import Scaling\n",
    "from DataPreprocess.Encoding import Encoding\n",
    "from DataPreprocess.FeatureSelection import FeatureSelection\n",
    "from AnomalyClassifier.AnomalyClassifier import AnomalyClassifier\n",
    "from EvalMetrics.EvalMetrics import EvalMetrics\n",
    "import joblib\n",
    "import warnings\n",
    "\n",
    "warnings.filterwarnings('ignore')"
   ]
  },
  {
   "cell_type": "code",
   "execution_count": 2,
   "metadata": {},
   "outputs": [
    {
     "name": "stdout",
     "output_type": "stream",
     "text": [
      "Dataset Loaded\n",
      "Dataset Scaling is finished\n",
      "Performing feature selection....\n",
      "new\n",
      "Selected features: \n",
      "['service', 'flag', 'logged_in', 'count', 'serror_rate', 'srv_serror_rate', 'rerror_rate', 'same_srv_rate', 'dst_host_count', 'dst_host_srv_count', 'dst_host_same_srv_rate', 'dst_host_serror_rate', 'dst_host_srv_serror_rate', 'dst_host_rerror_rate', 'difficulty_level', 'attack_class']\n"
     ]
    }
   ],
   "source": [
    "kdd_train = pd.read_csv(\"/home/soosan/fyp/FYP/DataSets/KDDTrain+.txt\", header=None, names=constants.COL_NAMES)\n",
    "kdd_test = pd.read_csv(\"/home/soosan/fyp/FYP/DataSets/KDDTest+.txt\", header=None, names=constants.COL_NAMES)\n",
    "\n",
    "#make them as one\n",
    "df = pd.concat([kdd_train, kdd_test])\n",
    "print(\"Dataset Loaded\")\n",
    "\n",
    "#map attack type to 0 or 1\n",
    "df = BinMap(df)\n",
    "\n",
    "#scale numerical columns\n",
    "df = Scaling.scaling(df, df.select_dtypes(include=['float64', 'int64']).columns)\n",
    "print(\"Dataset Scaling is finished\")\n",
    "\n",
    "#for feature selection before make a copy\n",
    "print(\"Performing feature selection....\")\n",
    "df_copy = df.copy()\n",
    "#label encode categorical values\n",
    "df_copy = Encoding.Labencoding(df_copy)\n",
    "#Feature Selection\n",
    "X = df_copy.drop('attack_class', axis=1)\n",
    "y = df_copy['attack_class']\n",
    "new_fs = FeatureSelection.select_features(X, y)\n",
    "print(\"Selected features: \")\n",
    "print(new_fs)"
   ]
  },
  {
   "cell_type": "code",
   "execution_count": null,
   "metadata": {},
   "outputs": [],
   "source": []
  }
 ],
 "metadata": {
  "kernelspec": {
   "display_name": "Python 3.10.8 64-bit",
   "language": "python",
   "name": "python3"
  },
  "language_info": {
   "codemirror_mode": {
    "name": "ipython",
    "version": 3
   },
   "file_extension": ".py",
   "mimetype": "text/x-python",
   "name": "python",
   "nbconvert_exporter": "python",
   "pygments_lexer": "ipython3",
   "version": "3.10.8"
  },
  "orig_nbformat": 4,
  "vscode": {
   "interpreter": {
    "hash": "e7370f93d1d0cde622a1f8e1c04877d8463912d04d973331ad4851f04de6915a"
   }
  }
 },
 "nbformat": 4,
 "nbformat_minor": 2
}
